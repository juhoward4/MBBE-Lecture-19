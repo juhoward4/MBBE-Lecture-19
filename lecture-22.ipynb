{
 "cells": [
  {
   "cell_type": "markdown",
   "id": "1019490c",
   "metadata": {},
   "source": [
    "# Lecture 22: Name Generative AI\n",
    "\n",
    "Plan:\n",
    "1. Set up the imports\n",
    "2. Read the names from the file\n",
    "3. Create the Vocabulary\n",
    "4. Create Training data (previous letter --> next letter)\n",
    "5. Train a neural network (multilayer perceptron in scikit learn)\n",
    "6. Generate ~20 test names using a function"
   ]
  },
  {
   "cell_type": "code",
   "execution_count": 26,
   "id": "aabccb52",
   "metadata": {},
   "outputs": [],
   "source": [
    "import random\n",
    "import numpy as np\n",
    "from sklearn.neural_network import MLPClassifier\n",
    "from sklearn.metrics import accuracy_score"
   ]
  },
  {
   "cell_type": "code",
   "execution_count": 27,
   "id": "e1b3157b",
   "metadata": {},
   "outputs": [
    {
     "data": {
      "text/plain": [
       "32033"
      ]
     },
     "execution_count": 27,
     "metadata": {},
     "output_type": "execute_result"
    }
   ],
   "source": [
    "#load the names\n",
    "with open('names.txt') as file:\n",
    "    names = file.read().splitlines()\n",
    "\n",
    "len(names)"
   ]
  },
  {
   "cell_type": "code",
   "execution_count": 28,
   "id": "e984fc7d",
   "metadata": {},
   "outputs": [
    {
     "data": {
      "text/plain": [
       "27"
      ]
     },
     "execution_count": 28,
     "metadata": {},
     "output_type": "execute_result"
    }
   ],
   "source": [
    "#create the 'vocabulary'\n",
    "all_names = ' '.join(names)\n",
    "\n",
    "#create a sorted list of all the unique characters in names\n",
    "vocab = sorted(list(set(all_names)))\n",
    "\n",
    "len(vocab)\n"
   ]
  },
  {
   "cell_type": "code",
   "execution_count": 29,
   "id": "c1214898",
   "metadata": {},
   "outputs": [
    {
     "data": {
      "text/plain": [
       "{0: ' ',\n",
       " 1: 'a',\n",
       " 2: 'b',\n",
       " 3: 'c',\n",
       " 4: 'd',\n",
       " 5: 'e',\n",
       " 6: 'f',\n",
       " 7: 'g',\n",
       " 8: 'h',\n",
       " 9: 'i',\n",
       " 10: 'j',\n",
       " 11: 'k',\n",
       " 12: 'l',\n",
       " 13: 'm',\n",
       " 14: 'n',\n",
       " 15: 'o',\n",
       " 16: 'p',\n",
       " 17: 'q',\n",
       " 18: 'r',\n",
       " 19: 's',\n",
       " 20: 't',\n",
       " 21: 'u',\n",
       " 22: 'v',\n",
       " 23: 'w',\n",
       " 24: 'x',\n",
       " 25: 'y',\n",
       " 26: 'z'}"
      ]
     },
     "execution_count": 29,
     "metadata": {},
     "output_type": "execute_result"
    }
   ],
   "source": [
    "#build mappings between characters and integers\n",
    "char_to_int = {ch: i for i, ch in enumerate(vocab)}\n",
    "int_to_char = {i: ch for i, ch in enumerate(vocab)}\n",
    "\n",
    "char_to_int\n",
    "int_to_char"
   ]
  },
  {
   "cell_type": "code",
   "execution_count": 35,
   "id": "8b68bdfe",
   "metadata": {},
   "outputs": [
    {
     "data": {
      "text/plain": [
       "228146"
      ]
     },
     "execution_count": 35,
     "metadata": {},
     "output_type": "execute_result"
    }
   ],
   "source": [
    "#create training data\n",
    "X = []\n",
    "y = []\n",
    "\n",
    "#loop over names\n",
    "for name in names:\n",
    "    name = ' ' +name + ' '\n",
    "    #loop over characters in name\n",
    "    for index, char in enumerate(name):\n",
    "        first_char = char\n",
    "\n",
    "        #check that next character exists\n",
    "        if index+1 < len(name):\n",
    "            next_char = name[index + 1]\n",
    "\n",
    "            #get integer value of characters\n",
    "            first_char_int = char_to_int[first_char]\n",
    "            next_char_int = char_to_int[next_char]\n",
    "\n",
    "            #get integer to X and y list\n",
    "            X.append(first_char_int)\n",
    "            y.append(next_char_int)\n",
    "\n",
    "len(X)\n"
   ]
  },
  {
   "cell_type": "code",
   "execution_count": null,
   "id": "24a733a0",
   "metadata": {},
   "outputs": [],
   "source": [
    "#define our neural netwrok\n",
    "clf = MLPClassifier(random_state=42)\n",
    "\n",
    "#reshape the X data to be 2D\n",
    "X = np.array(X).reshape(-1, 1)\n",
    "\n",
    "#train the model\n",
    "clf.fit(X,y)"
   ]
  }
 ],
 "metadata": {
  "kernelspec": {
   "display_name": "Python 3",
   "language": "python",
   "name": "python3"
  },
  "language_info": {
   "codemirror_mode": {
    "name": "ipython",
    "version": 3
   },
   "file_extension": ".py",
   "mimetype": "text/x-python",
   "name": "python",
   "nbconvert_exporter": "python",
   "pygments_lexer": "ipython3",
   "version": "3.12.1"
  }
 },
 "nbformat": 4,
 "nbformat_minor": 5
}
